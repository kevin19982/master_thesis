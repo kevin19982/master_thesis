{
 "cells": [
  {
   "cell_type": "markdown",
   "id": "de9be1e6",
   "metadata": {},
   "source": [
    "# Master Thesis Data Analysis Python"
   ]
  },
  {
   "cell_type": "markdown",
   "id": "dfe8d8eb",
   "metadata": {},
   "source": [
    "## 1. Load in data"
   ]
  },
  {
   "cell_type": "code",
   "execution_count": 1,
   "id": "81429a7c",
   "metadata": {},
   "outputs": [
    {
     "name": "stdout",
     "output_type": "stream",
     "text": [
      "C:\\Users\\siriv\\Downloads\\master_thesis\\master_thesis_git\n",
      "C:\\Users\\siriv\\Downloads\\master_thesis\\master_thesis_git\n"
     ]
    }
   ],
   "source": [
    "import os\n",
    "\n",
    "print(os.getcwd())\n",
    "os.chdir(\"C:/Users/siriv/Downloads/master_thesis/master_thesis_git/\")\n",
    "print(os.getcwd())"
   ]
  },
  {
   "cell_type": "code",
   "execution_count": 37,
   "id": "33ece5d5",
   "metadata": {},
   "outputs": [
    {
     "data": {
      "text/plain": [
       "((10311, 24), (7733, 24), (2578, 24))"
      ]
     },
     "execution_count": 37,
     "metadata": {},
     "output_type": "execute_result"
    }
   ],
   "source": [
    "# import packages\n",
    "import pandas as pd\n",
    "\n",
    "\n",
    "\n",
    "# load in data\n",
    "data = pd.read_csv(\"data_model.csv\")\n",
    "train = pd.read_csv(\"train_model.csv\")\n",
    "test = pd.read_csv(\"test_model.csv\")\n",
    "\n",
    "data = data.drop([\"Unnamed: 0\"], axis = 1)\n",
    "train = train.drop([\"Unnamed: 0\"], axis = 1)\n",
    "test = test.drop([\"Unnamed: 0\"], axis = 1)\n",
    "\n",
    "data.shape, train.shape, test.shape"
   ]
  },
  {
   "cell_type": "markdown",
   "id": "5b21bf30",
   "metadata": {},
   "source": [
    "## 2. Prepare data for analysis"
   ]
  },
  {
   "cell_type": "code",
   "execution_count": 38,
   "id": "4f9a08bd",
   "metadata": {},
   "outputs": [
    {
     "name": "stdout",
     "output_type": "stream",
     "text": [
      "lfdn                      int64\n",
      "purchase_CHO              int64\n",
      "purchase_PA               int64\n",
      "purchase_GB               int64\n",
      "rank_GB                   int64\n",
      "rank_CHO                  int64\n",
      "rank_CHEESE               int64\n",
      "rank_WHEAT                int64\n",
      "rank_TOM                  int64\n",
      "age                       int64\n",
      "gender                   object\n",
      "country                   int64\n",
      "education                object\n",
      "occupation               object\n",
      "av_income                 int64\n",
      "environment              object\n",
      "Country_Name             object\n",
      "Generation               object\n",
      "av_income_factorized     object\n",
      "choice                   object\n",
      "decision                  int64\n",
      "price_cn                float64\n",
      "price_no_cn             float64\n",
      "product_type             object\n",
      "dtype: object\n"
     ]
    }
   ],
   "source": [
    "# check datatypes\n",
    "print(train.dtypes)"
   ]
  },
  {
   "cell_type": "code",
   "execution_count": 39,
   "id": "fba75865",
   "metadata": {},
   "outputs": [
    {
     "data": {
      "text/plain": [
       "((7733, 23), (2578, 23), (7733,), (2578,))"
      ]
     },
     "execution_count": 39,
     "metadata": {},
     "output_type": "execute_result"
    }
   ],
   "source": [
    "# get feature matrix and outcome\n",
    "X_train = train.drop([\"decision\"], axis = 1)\n",
    "X_test = test.drop([\"decision\"], axis = 1)\n",
    "\n",
    "y_train = train[\"decision\"]\n",
    "y_test = test[\"decision\"]\n",
    "\n",
    "X_train.shape, X_test.shape, y_train.shape, y_test.shape"
   ]
  },
  {
   "cell_type": "code",
   "execution_count": 40,
   "id": "440926dd",
   "metadata": {},
   "outputs": [
    {
     "data": {
      "text/plain": [
       "(['education',\n",
       "  'occupation',\n",
       "  'purchase_CHO',\n",
       "  'purchase_PA',\n",
       "  'purchase_GB',\n",
       "  'gender',\n",
       "  'Country_Name',\n",
       "  'av_income_factorized',\n",
       "  'choice',\n",
       "  'product_type'],\n",
       " ['age', 'environment', 'price_cn', 'price_no_cn'])"
      ]
     },
     "execution_count": 40,
     "metadata": {},
     "output_type": "execute_result"
    }
   ],
   "source": [
    "# keep variables relevant for the analysis\n",
    "drop_var = [\"rank_GB\", \"rank_CHO\", \"rank_CHEESE\", \"rank_WHEAT\", \"rank_TOM\", \"country\", \"av_income\", \"Generation\", \"lfdn\"]\n",
    "X_train = X_train.drop(drop_var, axis = 1)\n",
    "X_test = X_test.drop(drop_var, axis = 1)\n",
    "\n",
    "# categorical features\n",
    "cat_features = [\"education\", \"occupation\", \"purchase_CHO\", \"purchase_PA\", \"purchase_GB\", \"gender\",\n",
    "               \"Country_Name\", \"av_income_factorized\", \"choice\", \"product_type\"]    # meow i guess\n",
    "num_features = [feature for feature in X_train.columns if feature not in cat_features]\n",
    "\n",
    "cat_features, num_features"
   ]
  },
  {
   "cell_type": "code",
   "execution_count": 41,
   "id": "593c384d",
   "metadata": {},
   "outputs": [
    {
     "name": "stdout",
     "output_type": "stream",
     "text": [
      "age              int64\n",
      "environment     object\n",
      "price_cn       float64\n",
      "price_no_cn    float64\n",
      "dtype: object\n"
     ]
    },
    {
     "data": {
      "text/plain": [
       "array(['Priority', 'Not priority'], dtype=object)"
      ]
     },
     "execution_count": 41,
     "metadata": {},
     "output_type": "execute_result"
    }
   ],
   "source": [
    "# create dataframe for variables that are supposed to be numeric here\n",
    "X_train_num = X_train[num_features]\n",
    "X_test_num = X_test[num_features]\n",
    "\n",
    "# check datatypes\n",
    "print(X_train_num.dtypes)\n",
    "\n",
    "# check unique values of factor variable\n",
    "X_train_num[\"environment\"].unique()"
   ]
  },
  {
   "cell_type": "code",
   "execution_count": 42,
   "id": "c8bcdaf2",
   "metadata": {},
   "outputs": [
    {
     "name": "stdout",
     "output_type": "stream",
     "text": [
      "age            float64\n",
      "environment    float64\n",
      "price_cn       float64\n",
      "price_no_cn    float64\n",
      "dtype: object\n"
     ]
    },
    {
     "name": "stderr",
     "output_type": "stream",
     "text": [
      "C:\\Users\\siriv\\AppData\\Local\\Temp\\ipykernel_9044\\998637070.py:2: SettingWithCopyWarning: \n",
      "A value is trying to be set on a copy of a slice from a DataFrame\n",
      "\n",
      "See the caveats in the documentation: https://pandas.pydata.org/pandas-docs/stable/user_guide/indexing.html#returning-a-view-versus-a-copy\n",
      "  X_train_num[\"environment\"].replace([\"Priority\", \"Not priority\"], [0, 1], inplace = True)\n",
      "C:\\Users\\siriv\\AppData\\Local\\Temp\\ipykernel_9044\\998637070.py:3: SettingWithCopyWarning: \n",
      "A value is trying to be set on a copy of a slice from a DataFrame\n",
      "\n",
      "See the caveats in the documentation: https://pandas.pydata.org/pandas-docs/stable/user_guide/indexing.html#returning-a-view-versus-a-copy\n",
      "  X_test_num[\"environment\"].replace([\"Priority\", \"Not priority\"], [0, 1], inplace = True)\n"
     ]
    }
   ],
   "source": [
    "# change factor variables to numeric\n",
    "X_train_num[\"environment\"].replace([\"Priority\", \"Not priority\"], [0, 1], inplace = True)\n",
    "X_test_num[\"environment\"].replace([\"Priority\", \"Not priority\"], [0, 1], inplace = True)\n",
    "\n",
    "# change the datatypes of the numeric variables to float64\n",
    "X_train_num = X_train_num.astype(\"float64\")\n",
    "X_test_num = X_test_num.astype(\"float64\")\n",
    "\n",
    "# check all datatypes\n",
    "print(X_train_num.dtypes)"
   ]
  },
  {
   "cell_type": "code",
   "execution_count": 43,
   "id": "ad3db4ec",
   "metadata": {},
   "outputs": [
    {
     "name": "stdout",
     "output_type": "stream",
     "text": [
      "age :\n",
      "[54. 67. 60. 58. 50. 27. 26. 24. 64. 29. 18. 73. 28. 55. 23. 48. 61. 53.\n",
      " 59. 25. 39. 46. 78. 49. 34. 45. 52. 57. 32. 62. 30. 71. 43. 35. 20. 56.\n",
      " 47. 21. 38. 66. 22. 41. 68. 31. 33. 36. 70. 42. 63. 37. 65. 69. 19. 74.\n",
      " 72. 17. 51. 40. 84. 44. 81. 77. 83. 82.]\n",
      "\n",
      "environment :\n",
      "[0. 1.]\n",
      "\n",
      "price_cn :\n",
      "[2.49 4.99 1.79 1.09 0.79 6.59 1.29 3.49]\n",
      "\n",
      "price_no_cn :\n",
      "[1.09 3.49 0.79 1.29 1.79 4.99 6.59 2.49]\n",
      "\n"
     ]
    }
   ],
   "source": [
    "# check variables\n",
    "for var in X_train_num.columns:\n",
    "    print(var, \":\")\n",
    "    print(X_train_num[var].unique())\n",
    "    print()"
   ]
  },
  {
   "cell_type": "code",
   "execution_count": 44,
   "id": "8261a6a8",
   "metadata": {},
   "outputs": [
    {
     "data": {
      "text/plain": [
       "((7733, 10), (2578, 10))"
      ]
     },
     "execution_count": 44,
     "metadata": {},
     "output_type": "execute_result"
    }
   ],
   "source": [
    "# one-hot encode factor columns\n",
    "X_train_fc = X_train[cat_features]\n",
    "X_test_fc = X_test[cat_features]\n",
    "\n",
    "X_train_fc.shape, X_test_fc.shape"
   ]
  },
  {
   "cell_type": "code",
   "execution_count": 45,
   "id": "f889073d",
   "metadata": {},
   "outputs": [
    {
     "data": {
      "text/plain": [
       "education               object\n",
       "occupation              object\n",
       "purchase_CHO             int64\n",
       "purchase_PA              int64\n",
       "purchase_GB              int64\n",
       "gender                  object\n",
       "Country_Name            object\n",
       "av_income_factorized    object\n",
       "choice                  object\n",
       "product_type            object\n",
       "dtype: object"
      ]
     },
     "execution_count": 45,
     "metadata": {},
     "output_type": "execute_result"
    }
   ],
   "source": [
    "X_train_fc.dtypes"
   ]
  },
  {
   "cell_type": "code",
   "execution_count": 46,
   "id": "87360bae",
   "metadata": {},
   "outputs": [
    {
     "data": {
      "text/plain": [
       "education               object\n",
       "occupation              object\n",
       "purchase_CHO            object\n",
       "purchase_PA             object\n",
       "purchase_GB             object\n",
       "gender                  object\n",
       "Country_Name            object\n",
       "av_income_factorized    object\n",
       "choice                  object\n",
       "product_type            object\n",
       "dtype: object"
      ]
     },
     "execution_count": 46,
     "metadata": {},
     "output_type": "execute_result"
    }
   ],
   "source": [
    "X_train_fc = X_train_fc.astype(\"object\")\n",
    "X_test_fc = X_test_fc.astype(\"object\")\n",
    "\n",
    "X_train_fc.dtypes"
   ]
  },
  {
   "cell_type": "code",
   "execution_count": 47,
   "id": "72bf1b5b",
   "metadata": {},
   "outputs": [
    {
     "data": {
      "text/plain": [
       "((7733, 78), (2578, 78))"
      ]
     },
     "execution_count": 47,
     "metadata": {},
     "output_type": "execute_result"
    }
   ],
   "source": [
    "from sklearn.preprocessing import OneHotEncoder\n",
    "\n",
    "# set up encoder\n",
    "oh_1 = OneHotEncoder(sparse = False, handle_unknown = \"error\")\n",
    "\n",
    "# fit one-hot encoder on whole data to be sure to get all options\n",
    "oh_1.fit(data[cat_features])\n",
    "\n",
    "# transform train and test data according to fitted encoder\n",
    "X_train_fc = oh_1.transform(X_train_fc)\n",
    "X_test_fc = oh_1.transform(X_test_fc)\n",
    "\n",
    "X_train_fc.shape, X_test_fc.shape"
   ]
  },
  {
   "cell_type": "code",
   "execution_count": 48,
   "id": "66d91dff",
   "metadata": {},
   "outputs": [
    {
     "data": {
      "text/plain": [
       "[\"education_Bachelor's Degree\",\n",
       " \"education_Master's Degree\",\n",
       " 'education_None',\n",
       " 'education_Ph.D. or higher',\n",
       " 'education_Secondary School',\n",
       " 'education_Secondary School Academic',\n",
       " 'education_Secondary School General',\n",
       " 'occupation_Employed',\n",
       " 'occupation_In education or vocational training',\n",
       " 'occupation_Looking for employment']"
      ]
     },
     "execution_count": 48,
     "metadata": {},
     "output_type": "execute_result"
    }
   ],
   "source": [
    "# name variables\n",
    "cat_features_names = [f\"{col}_{cat}\" for i, col in enumerate(cat_features) for cat in oh_1.categories_[i][0:]]\n",
    "cat_features_names[:10]"
   ]
  },
  {
   "cell_type": "code",
   "execution_count": 49,
   "id": "4d1c45d3",
   "metadata": {},
   "outputs": [
    {
     "data": {
      "text/plain": [
       "((7733, 78), (2578, 78))"
      ]
     },
     "execution_count": 49,
     "metadata": {},
     "output_type": "execute_result"
    }
   ],
   "source": [
    "# add variable names to dataframe of categorical features\n",
    "X_train_fc = pd.DataFrame(X_train_fc, columns = cat_features_names)\n",
    "X_test_fc = pd.DataFrame(X_test_fc, columns = cat_features_names)\n",
    "\n",
    "X_train_fc.shape, X_test_fc.shape"
   ]
  },
  {
   "cell_type": "code",
   "execution_count": 50,
   "id": "cbde44b7",
   "metadata": {},
   "outputs": [
    {
     "name": "stdout",
     "output_type": "stream",
     "text": [
      "Expected number of columns:  82\n",
      "Number of columns:  82\n"
     ]
    }
   ],
   "source": [
    "# concat numerical and categorical dataframes\n",
    "print(\"Expected number of columns: \", len(X_train_num.columns) + len(X_train_fc.columns))\n",
    "X_train = pd.concat([X_train_num, X_train_fc], axis = 1).reindex(X_train_num.index)\n",
    "X_test = pd.concat([X_test_num, X_test_fc], axis = 1).reindex(X_test_num.index)\n",
    "print(\"Number of columns: \", len(X_train.columns))"
   ]
  },
  {
   "cell_type": "code",
   "execution_count": 51,
   "id": "2b0209ae",
   "metadata": {},
   "outputs": [
    {
     "data": {
      "text/plain": [
       "((5799, 82), (1934, 82), (2578, 82), (5799,), (1934,), (2578,))"
      ]
     },
     "execution_count": 51,
     "metadata": {},
     "output_type": "execute_result"
    }
   ],
   "source": [
    "# train-validation split for neural net\n",
    "from sklearn.model_selection import train_test_split\n",
    "\n",
    "X_train_2, X_valid, y_train_2, y_valid = train_test_split(X_train, y_train, test_size = 0.25)\n",
    "X_train_2.shape, X_valid.shape, X_test.shape, y_train_2.shape, y_valid.shape, y_test.shape"
   ]
  },
  {
   "cell_type": "markdown",
   "id": "bfa41c79",
   "metadata": {},
   "source": [
    "## Random Forest"
   ]
  },
  {
   "cell_type": "code",
   "execution_count": 17,
   "id": "03d3c9fd",
   "metadata": {},
   "outputs": [
    {
     "data": {
      "text/plain": [
       "RandomForestClassifier(max_depth=20, min_samples_leaf=5, n_estimators=1000,\n",
       "                       oob_score=True, random_state=0)"
      ]
     },
     "execution_count": 17,
     "metadata": {},
     "output_type": "execute_result"
    }
   ],
   "source": [
    "from sklearn.ensemble import RandomForestClassifier\n",
    "\n",
    "rf_1 = RandomForestClassifier(n_estimators = 1000, random_state = 0,\n",
    "                             oob_score = True, max_depth = 20, \n",
    "                             min_samples_leaf = 5)\n",
    "rf_1.fit(X_train, y_train)"
   ]
  },
  {
   "cell_type": "code",
   "execution_count": 18,
   "id": "60f14a94",
   "metadata": {},
   "outputs": [
    {
     "data": {
      "text/plain": [
       "0       2\n",
       "1       2\n",
       "2       2\n",
       "3       1\n",
       "4       2\n",
       "       ..\n",
       "2573    2\n",
       "2574    2\n",
       "2575    2\n",
       "2576    2\n",
       "2577    2\n",
       "Name: decision, Length: 2578, dtype: int64"
      ]
     },
     "execution_count": 18,
     "metadata": {},
     "output_type": "execute_result"
    }
   ],
   "source": [
    "y_test"
   ]
  },
  {
   "cell_type": "code",
   "execution_count": 19,
   "id": "1a26043b",
   "metadata": {},
   "outputs": [
    {
     "name": "stdout",
     "output_type": "stream",
     "text": [
      "Out-of-Bag Score: 0.86\n",
      "Mean absolute error: 0.13\n"
     ]
    }
   ],
   "source": [
    "from sklearn.metrics import mean_absolute_error, r2_score\n",
    "\n",
    "oob_score = rf_1.oob_score_\n",
    "print(f'Out-of-Bag Score: {round(oob_score, 2)}')\n",
    "\n",
    "predictions_1 = rf_1.predict(X_test)\n",
    "\n",
    "mse_1 = mean_absolute_error(y_test, predictions_1)\n",
    "print(f'Mean absolute error: {round(mse_1, 2)}')"
   ]
  },
  {
   "cell_type": "code",
   "execution_count": 20,
   "id": "5223328a",
   "metadata": {},
   "outputs": [
    {
     "ename": "IndexError",
     "evalue": "list index out of range",
     "output_type": "error",
     "traceback": [
      "\u001b[1;31m---------------------------------------------------------------------------\u001b[0m",
      "\u001b[1;31mIndexError\u001b[0m                                Traceback (most recent call last)",
      "\u001b[1;32m~\\AppData\\Local\\Temp\\ipykernel_3148\\712492266.py\u001b[0m in \u001b[0;36m<module>\u001b[1;34m\u001b[0m\n\u001b[0;32m      5\u001b[0m \u001b[1;33m\u001b[0m\u001b[0m\n\u001b[0;32m      6\u001b[0m \u001b[0mplt\u001b[0m\u001b[1;33m.\u001b[0m\u001b[0mfigure\u001b[0m\u001b[1;33m(\u001b[0m\u001b[0mfigsize\u001b[0m \u001b[1;33m=\u001b[0m \u001b[1;33m(\u001b[0m\u001b[1;36m20\u001b[0m\u001b[1;33m,\u001b[0m \u001b[1;36m20\u001b[0m\u001b[1;33m)\u001b[0m\u001b[1;33m)\u001b[0m\u001b[1;33m\u001b[0m\u001b[1;33m\u001b[0m\u001b[0m\n\u001b[1;32m----> 7\u001b[1;33m plot_tree(tree_to_plot_1, feature_names = cat_features_names,\n\u001b[0m\u001b[0;32m      8\u001b[0m          filled = True, rounded = True, fontsize = 10)\n\u001b[0;32m      9\u001b[0m \u001b[0mplt\u001b[0m\u001b[1;33m.\u001b[0m\u001b[0mtitle\u001b[0m\u001b[1;33m(\u001b[0m\u001b[1;34m\"Decision tree 0 from random forest\"\u001b[0m\u001b[1;33m)\u001b[0m\u001b[1;33m\u001b[0m\u001b[1;33m\u001b[0m\u001b[0m\n",
      "\u001b[1;32m~\\anaconda3\\lib\\site-packages\\sklearn\\tree\\_export.py\u001b[0m in \u001b[0;36mplot_tree\u001b[1;34m(decision_tree, max_depth, feature_names, class_names, label, filled, impurity, node_ids, proportion, rounded, precision, ax, fontsize)\u001b[0m\n\u001b[0;32m    193\u001b[0m         \u001b[0mfontsize\u001b[0m\u001b[1;33m=\u001b[0m\u001b[0mfontsize\u001b[0m\u001b[1;33m,\u001b[0m\u001b[1;33m\u001b[0m\u001b[1;33m\u001b[0m\u001b[0m\n\u001b[0;32m    194\u001b[0m     )\n\u001b[1;32m--> 195\u001b[1;33m     \u001b[1;32mreturn\u001b[0m \u001b[0mexporter\u001b[0m\u001b[1;33m.\u001b[0m\u001b[0mexport\u001b[0m\u001b[1;33m(\u001b[0m\u001b[0mdecision_tree\u001b[0m\u001b[1;33m,\u001b[0m \u001b[0max\u001b[0m\u001b[1;33m=\u001b[0m\u001b[0max\u001b[0m\u001b[1;33m)\u001b[0m\u001b[1;33m\u001b[0m\u001b[1;33m\u001b[0m\u001b[0m\n\u001b[0m\u001b[0;32m    196\u001b[0m \u001b[1;33m\u001b[0m\u001b[0m\n\u001b[0;32m    197\u001b[0m \u001b[1;33m\u001b[0m\u001b[0m\n",
      "\u001b[1;32m~\\anaconda3\\lib\\site-packages\\sklearn\\tree\\_export.py\u001b[0m in \u001b[0;36mexport\u001b[1;34m(self, decision_tree, ax)\u001b[0m\n\u001b[0;32m    654\u001b[0m         \u001b[0max\u001b[0m\u001b[1;33m.\u001b[0m\u001b[0mclear\u001b[0m\u001b[1;33m(\u001b[0m\u001b[1;33m)\u001b[0m\u001b[1;33m\u001b[0m\u001b[1;33m\u001b[0m\u001b[0m\n\u001b[0;32m    655\u001b[0m         \u001b[0max\u001b[0m\u001b[1;33m.\u001b[0m\u001b[0mset_axis_off\u001b[0m\u001b[1;33m(\u001b[0m\u001b[1;33m)\u001b[0m\u001b[1;33m\u001b[0m\u001b[1;33m\u001b[0m\u001b[0m\n\u001b[1;32m--> 656\u001b[1;33m         \u001b[0mmy_tree\u001b[0m \u001b[1;33m=\u001b[0m \u001b[0mself\u001b[0m\u001b[1;33m.\u001b[0m\u001b[0m_make_tree\u001b[0m\u001b[1;33m(\u001b[0m\u001b[1;36m0\u001b[0m\u001b[1;33m,\u001b[0m \u001b[0mdecision_tree\u001b[0m\u001b[1;33m.\u001b[0m\u001b[0mtree_\u001b[0m\u001b[1;33m,\u001b[0m \u001b[0mdecision_tree\u001b[0m\u001b[1;33m.\u001b[0m\u001b[0mcriterion\u001b[0m\u001b[1;33m)\u001b[0m\u001b[1;33m\u001b[0m\u001b[1;33m\u001b[0m\u001b[0m\n\u001b[0m\u001b[0;32m    657\u001b[0m         \u001b[0mdraw_tree\u001b[0m \u001b[1;33m=\u001b[0m \u001b[0mbuchheim\u001b[0m\u001b[1;33m(\u001b[0m\u001b[0mmy_tree\u001b[0m\u001b[1;33m)\u001b[0m\u001b[1;33m\u001b[0m\u001b[1;33m\u001b[0m\u001b[0m\n\u001b[0;32m    658\u001b[0m \u001b[1;33m\u001b[0m\u001b[0m\n",
      "\u001b[1;32m~\\anaconda3\\lib\\site-packages\\sklearn\\tree\\_export.py\u001b[0m in \u001b[0;36m_make_tree\u001b[1;34m(self, node_id, et, criterion, depth)\u001b[0m\n\u001b[0;32m    635\u001b[0m         ):\n\u001b[0;32m    636\u001b[0m             children = [\n\u001b[1;32m--> 637\u001b[1;33m                 self._make_tree(\n\u001b[0m\u001b[0;32m    638\u001b[0m                     \u001b[0met\u001b[0m\u001b[1;33m.\u001b[0m\u001b[0mchildren_left\u001b[0m\u001b[1;33m[\u001b[0m\u001b[0mnode_id\u001b[0m\u001b[1;33m]\u001b[0m\u001b[1;33m,\u001b[0m \u001b[0met\u001b[0m\u001b[1;33m,\u001b[0m \u001b[0mcriterion\u001b[0m\u001b[1;33m,\u001b[0m \u001b[0mdepth\u001b[0m\u001b[1;33m=\u001b[0m\u001b[0mdepth\u001b[0m \u001b[1;33m+\u001b[0m \u001b[1;36m1\u001b[0m\u001b[1;33m\u001b[0m\u001b[1;33m\u001b[0m\u001b[0m\n\u001b[0;32m    639\u001b[0m                 ),\n",
      "\u001b[1;32m~\\anaconda3\\lib\\site-packages\\sklearn\\tree\\_export.py\u001b[0m in \u001b[0;36m_make_tree\u001b[1;34m(self, node_id, et, criterion, depth)\u001b[0m\n\u001b[0;32m    635\u001b[0m         ):\n\u001b[0;32m    636\u001b[0m             children = [\n\u001b[1;32m--> 637\u001b[1;33m                 self._make_tree(\n\u001b[0m\u001b[0;32m    638\u001b[0m                     \u001b[0met\u001b[0m\u001b[1;33m.\u001b[0m\u001b[0mchildren_left\u001b[0m\u001b[1;33m[\u001b[0m\u001b[0mnode_id\u001b[0m\u001b[1;33m]\u001b[0m\u001b[1;33m,\u001b[0m \u001b[0met\u001b[0m\u001b[1;33m,\u001b[0m \u001b[0mcriterion\u001b[0m\u001b[1;33m,\u001b[0m \u001b[0mdepth\u001b[0m\u001b[1;33m=\u001b[0m\u001b[0mdepth\u001b[0m \u001b[1;33m+\u001b[0m \u001b[1;36m1\u001b[0m\u001b[1;33m\u001b[0m\u001b[1;33m\u001b[0m\u001b[0m\n\u001b[0;32m    639\u001b[0m                 ),\n",
      "\u001b[1;32m~\\anaconda3\\lib\\site-packages\\sklearn\\tree\\_export.py\u001b[0m in \u001b[0;36m_make_tree\u001b[1;34m(self, node_id, et, criterion, depth)\u001b[0m\n\u001b[0;32m    635\u001b[0m         ):\n\u001b[0;32m    636\u001b[0m             children = [\n\u001b[1;32m--> 637\u001b[1;33m                 self._make_tree(\n\u001b[0m\u001b[0;32m    638\u001b[0m                     \u001b[0met\u001b[0m\u001b[1;33m.\u001b[0m\u001b[0mchildren_left\u001b[0m\u001b[1;33m[\u001b[0m\u001b[0mnode_id\u001b[0m\u001b[1;33m]\u001b[0m\u001b[1;33m,\u001b[0m \u001b[0met\u001b[0m\u001b[1;33m,\u001b[0m \u001b[0mcriterion\u001b[0m\u001b[1;33m,\u001b[0m \u001b[0mdepth\u001b[0m\u001b[1;33m=\u001b[0m\u001b[0mdepth\u001b[0m \u001b[1;33m+\u001b[0m \u001b[1;36m1\u001b[0m\u001b[1;33m\u001b[0m\u001b[1;33m\u001b[0m\u001b[0m\n\u001b[0;32m    639\u001b[0m                 ),\n",
      "\u001b[1;32m~\\anaconda3\\lib\\site-packages\\sklearn\\tree\\_export.py\u001b[0m in \u001b[0;36m_make_tree\u001b[1;34m(self, node_id, et, criterion, depth)\u001b[0m\n\u001b[0;32m    635\u001b[0m         ):\n\u001b[0;32m    636\u001b[0m             children = [\n\u001b[1;32m--> 637\u001b[1;33m                 self._make_tree(\n\u001b[0m\u001b[0;32m    638\u001b[0m                     \u001b[0met\u001b[0m\u001b[1;33m.\u001b[0m\u001b[0mchildren_left\u001b[0m\u001b[1;33m[\u001b[0m\u001b[0mnode_id\u001b[0m\u001b[1;33m]\u001b[0m\u001b[1;33m,\u001b[0m \u001b[0met\u001b[0m\u001b[1;33m,\u001b[0m \u001b[0mcriterion\u001b[0m\u001b[1;33m,\u001b[0m \u001b[0mdepth\u001b[0m\u001b[1;33m=\u001b[0m\u001b[0mdepth\u001b[0m \u001b[1;33m+\u001b[0m \u001b[1;36m1\u001b[0m\u001b[1;33m\u001b[0m\u001b[1;33m\u001b[0m\u001b[0m\n\u001b[0;32m    639\u001b[0m                 ),\n",
      "\u001b[1;32m~\\anaconda3\\lib\\site-packages\\sklearn\\tree\\_export.py\u001b[0m in \u001b[0;36m_make_tree\u001b[1;34m(self, node_id, et, criterion, depth)\u001b[0m\n\u001b[0;32m    635\u001b[0m         ):\n\u001b[0;32m    636\u001b[0m             children = [\n\u001b[1;32m--> 637\u001b[1;33m                 self._make_tree(\n\u001b[0m\u001b[0;32m    638\u001b[0m                     \u001b[0met\u001b[0m\u001b[1;33m.\u001b[0m\u001b[0mchildren_left\u001b[0m\u001b[1;33m[\u001b[0m\u001b[0mnode_id\u001b[0m\u001b[1;33m]\u001b[0m\u001b[1;33m,\u001b[0m \u001b[0met\u001b[0m\u001b[1;33m,\u001b[0m \u001b[0mcriterion\u001b[0m\u001b[1;33m,\u001b[0m \u001b[0mdepth\u001b[0m\u001b[1;33m=\u001b[0m\u001b[0mdepth\u001b[0m \u001b[1;33m+\u001b[0m \u001b[1;36m1\u001b[0m\u001b[1;33m\u001b[0m\u001b[1;33m\u001b[0m\u001b[0m\n\u001b[0;32m    639\u001b[0m                 ),\n",
      "\u001b[1;32m~\\anaconda3\\lib\\site-packages\\sklearn\\tree\\_export.py\u001b[0m in \u001b[0;36m_make_tree\u001b[1;34m(self, node_id, et, criterion, depth)\u001b[0m\n\u001b[0;32m    635\u001b[0m         ):\n\u001b[0;32m    636\u001b[0m             children = [\n\u001b[1;32m--> 637\u001b[1;33m                 self._make_tree(\n\u001b[0m\u001b[0;32m    638\u001b[0m                     \u001b[0met\u001b[0m\u001b[1;33m.\u001b[0m\u001b[0mchildren_left\u001b[0m\u001b[1;33m[\u001b[0m\u001b[0mnode_id\u001b[0m\u001b[1;33m]\u001b[0m\u001b[1;33m,\u001b[0m \u001b[0met\u001b[0m\u001b[1;33m,\u001b[0m \u001b[0mcriterion\u001b[0m\u001b[1;33m,\u001b[0m \u001b[0mdepth\u001b[0m\u001b[1;33m=\u001b[0m\u001b[0mdepth\u001b[0m \u001b[1;33m+\u001b[0m \u001b[1;36m1\u001b[0m\u001b[1;33m\u001b[0m\u001b[1;33m\u001b[0m\u001b[0m\n\u001b[0;32m    639\u001b[0m                 ),\n",
      "\u001b[1;32m~\\anaconda3\\lib\\site-packages\\sklearn\\tree\\_export.py\u001b[0m in \u001b[0;36m_make_tree\u001b[1;34m(self, node_id, et, criterion, depth)\u001b[0m\n\u001b[0;32m    635\u001b[0m         ):\n\u001b[0;32m    636\u001b[0m             children = [\n\u001b[1;32m--> 637\u001b[1;33m                 self._make_tree(\n\u001b[0m\u001b[0;32m    638\u001b[0m                     \u001b[0met\u001b[0m\u001b[1;33m.\u001b[0m\u001b[0mchildren_left\u001b[0m\u001b[1;33m[\u001b[0m\u001b[0mnode_id\u001b[0m\u001b[1;33m]\u001b[0m\u001b[1;33m,\u001b[0m \u001b[0met\u001b[0m\u001b[1;33m,\u001b[0m \u001b[0mcriterion\u001b[0m\u001b[1;33m,\u001b[0m \u001b[0mdepth\u001b[0m\u001b[1;33m=\u001b[0m\u001b[0mdepth\u001b[0m \u001b[1;33m+\u001b[0m \u001b[1;36m1\u001b[0m\u001b[1;33m\u001b[0m\u001b[1;33m\u001b[0m\u001b[0m\n\u001b[0;32m    639\u001b[0m                 ),\n",
      "\u001b[1;32m~\\anaconda3\\lib\\site-packages\\sklearn\\tree\\_export.py\u001b[0m in \u001b[0;36m_make_tree\u001b[1;34m(self, node_id, et, criterion, depth)\u001b[0m\n\u001b[0;32m    635\u001b[0m         ):\n\u001b[0;32m    636\u001b[0m             children = [\n\u001b[1;32m--> 637\u001b[1;33m                 self._make_tree(\n\u001b[0m\u001b[0;32m    638\u001b[0m                     \u001b[0met\u001b[0m\u001b[1;33m.\u001b[0m\u001b[0mchildren_left\u001b[0m\u001b[1;33m[\u001b[0m\u001b[0mnode_id\u001b[0m\u001b[1;33m]\u001b[0m\u001b[1;33m,\u001b[0m \u001b[0met\u001b[0m\u001b[1;33m,\u001b[0m \u001b[0mcriterion\u001b[0m\u001b[1;33m,\u001b[0m \u001b[0mdepth\u001b[0m\u001b[1;33m=\u001b[0m\u001b[0mdepth\u001b[0m \u001b[1;33m+\u001b[0m \u001b[1;36m1\u001b[0m\u001b[1;33m\u001b[0m\u001b[1;33m\u001b[0m\u001b[0m\n\u001b[0;32m    639\u001b[0m                 ),\n",
      "\u001b[1;32m~\\anaconda3\\lib\\site-packages\\sklearn\\tree\\_export.py\u001b[0m in \u001b[0;36m_make_tree\u001b[1;34m(self, node_id, et, criterion, depth)\u001b[0m\n\u001b[0;32m    635\u001b[0m         ):\n\u001b[0;32m    636\u001b[0m             children = [\n\u001b[1;32m--> 637\u001b[1;33m                 self._make_tree(\n\u001b[0m\u001b[0;32m    638\u001b[0m                     \u001b[0met\u001b[0m\u001b[1;33m.\u001b[0m\u001b[0mchildren_left\u001b[0m\u001b[1;33m[\u001b[0m\u001b[0mnode_id\u001b[0m\u001b[1;33m]\u001b[0m\u001b[1;33m,\u001b[0m \u001b[0met\u001b[0m\u001b[1;33m,\u001b[0m \u001b[0mcriterion\u001b[0m\u001b[1;33m,\u001b[0m \u001b[0mdepth\u001b[0m\u001b[1;33m=\u001b[0m\u001b[0mdepth\u001b[0m \u001b[1;33m+\u001b[0m \u001b[1;36m1\u001b[0m\u001b[1;33m\u001b[0m\u001b[1;33m\u001b[0m\u001b[0m\n\u001b[0;32m    639\u001b[0m                 ),\n",
      "\u001b[1;32m~\\anaconda3\\lib\\site-packages\\sklearn\\tree\\_export.py\u001b[0m in \u001b[0;36m_make_tree\u001b[1;34m(self, node_id, et, criterion, depth)\u001b[0m\n\u001b[0;32m    635\u001b[0m         ):\n\u001b[0;32m    636\u001b[0m             children = [\n\u001b[1;32m--> 637\u001b[1;33m                 self._make_tree(\n\u001b[0m\u001b[0;32m    638\u001b[0m                     \u001b[0met\u001b[0m\u001b[1;33m.\u001b[0m\u001b[0mchildren_left\u001b[0m\u001b[1;33m[\u001b[0m\u001b[0mnode_id\u001b[0m\u001b[1;33m]\u001b[0m\u001b[1;33m,\u001b[0m \u001b[0met\u001b[0m\u001b[1;33m,\u001b[0m \u001b[0mcriterion\u001b[0m\u001b[1;33m,\u001b[0m \u001b[0mdepth\u001b[0m\u001b[1;33m=\u001b[0m\u001b[0mdepth\u001b[0m \u001b[1;33m+\u001b[0m \u001b[1;36m1\u001b[0m\u001b[1;33m\u001b[0m\u001b[1;33m\u001b[0m\u001b[0m\n\u001b[0;32m    639\u001b[0m                 ),\n",
      "\u001b[1;32m~\\anaconda3\\lib\\site-packages\\sklearn\\tree\\_export.py\u001b[0m in \u001b[0;36m_make_tree\u001b[1;34m(self, node_id, et, criterion, depth)\u001b[0m\n\u001b[0;32m    635\u001b[0m         ):\n\u001b[0;32m    636\u001b[0m             children = [\n\u001b[1;32m--> 637\u001b[1;33m                 self._make_tree(\n\u001b[0m\u001b[0;32m    638\u001b[0m                     \u001b[0met\u001b[0m\u001b[1;33m.\u001b[0m\u001b[0mchildren_left\u001b[0m\u001b[1;33m[\u001b[0m\u001b[0mnode_id\u001b[0m\u001b[1;33m]\u001b[0m\u001b[1;33m,\u001b[0m \u001b[0met\u001b[0m\u001b[1;33m,\u001b[0m \u001b[0mcriterion\u001b[0m\u001b[1;33m,\u001b[0m \u001b[0mdepth\u001b[0m\u001b[1;33m=\u001b[0m\u001b[0mdepth\u001b[0m \u001b[1;33m+\u001b[0m \u001b[1;36m1\u001b[0m\u001b[1;33m\u001b[0m\u001b[1;33m\u001b[0m\u001b[0m\n\u001b[0;32m    639\u001b[0m                 ),\n",
      "\u001b[1;32m~\\anaconda3\\lib\\site-packages\\sklearn\\tree\\_export.py\u001b[0m in \u001b[0;36m_make_tree\u001b[1;34m(self, node_id, et, criterion, depth)\u001b[0m\n\u001b[0;32m    630\u001b[0m         \u001b[1;31m# traverses _tree.Tree recursively, builds intermediate\u001b[0m\u001b[1;33m\u001b[0m\u001b[1;33m\u001b[0m\u001b[0m\n\u001b[0;32m    631\u001b[0m         \u001b[1;31m# \"_reingold_tilford.Tree\" object\u001b[0m\u001b[1;33m\u001b[0m\u001b[1;33m\u001b[0m\u001b[0m\n\u001b[1;32m--> 632\u001b[1;33m         \u001b[0mname\u001b[0m \u001b[1;33m=\u001b[0m \u001b[0mself\u001b[0m\u001b[1;33m.\u001b[0m\u001b[0mnode_to_str\u001b[0m\u001b[1;33m(\u001b[0m\u001b[0met\u001b[0m\u001b[1;33m,\u001b[0m \u001b[0mnode_id\u001b[0m\u001b[1;33m,\u001b[0m \u001b[0mcriterion\u001b[0m\u001b[1;33m=\u001b[0m\u001b[0mcriterion\u001b[0m\u001b[1;33m)\u001b[0m\u001b[1;33m\u001b[0m\u001b[1;33m\u001b[0m\u001b[0m\n\u001b[0m\u001b[0;32m    633\u001b[0m         if et.children_left[node_id] != _tree.TREE_LEAF and (\n\u001b[0;32m    634\u001b[0m             \u001b[0mself\u001b[0m\u001b[1;33m.\u001b[0m\u001b[0mmax_depth\u001b[0m \u001b[1;32mis\u001b[0m \u001b[1;32mNone\u001b[0m \u001b[1;32mor\u001b[0m \u001b[0mdepth\u001b[0m \u001b[1;33m<=\u001b[0m \u001b[0mself\u001b[0m\u001b[1;33m.\u001b[0m\u001b[0mmax_depth\u001b[0m\u001b[1;33m\u001b[0m\u001b[1;33m\u001b[0m\u001b[0m\n",
      "\u001b[1;32m~\\anaconda3\\lib\\site-packages\\sklearn\\tree\\_export.py\u001b[0m in \u001b[0;36mnode_to_str\u001b[1;34m(self, tree, node_id, criterion)\u001b[0m\n\u001b[0;32m    290\u001b[0m             \u001b[1;31m# Always write node decision criteria, except for leaves\u001b[0m\u001b[1;33m\u001b[0m\u001b[1;33m\u001b[0m\u001b[0m\n\u001b[0;32m    291\u001b[0m             \u001b[1;32mif\u001b[0m \u001b[0mself\u001b[0m\u001b[1;33m.\u001b[0m\u001b[0mfeature_names\u001b[0m \u001b[1;32mis\u001b[0m \u001b[1;32mnot\u001b[0m \u001b[1;32mNone\u001b[0m\u001b[1;33m:\u001b[0m\u001b[1;33m\u001b[0m\u001b[1;33m\u001b[0m\u001b[0m\n\u001b[1;32m--> 292\u001b[1;33m                 \u001b[0mfeature\u001b[0m \u001b[1;33m=\u001b[0m \u001b[0mself\u001b[0m\u001b[1;33m.\u001b[0m\u001b[0mfeature_names\u001b[0m\u001b[1;33m[\u001b[0m\u001b[0mtree\u001b[0m\u001b[1;33m.\u001b[0m\u001b[0mfeature\u001b[0m\u001b[1;33m[\u001b[0m\u001b[0mnode_id\u001b[0m\u001b[1;33m]\u001b[0m\u001b[1;33m]\u001b[0m\u001b[1;33m\u001b[0m\u001b[1;33m\u001b[0m\u001b[0m\n\u001b[0m\u001b[0;32m    293\u001b[0m             \u001b[1;32melse\u001b[0m\u001b[1;33m:\u001b[0m\u001b[1;33m\u001b[0m\u001b[1;33m\u001b[0m\u001b[0m\n\u001b[0;32m    294\u001b[0m                 feature = \"X%s%s%s\" % (\n",
      "\u001b[1;31mIndexError\u001b[0m: list index out of range"
     ]
    },
    {
     "data": {
      "image/png": "[encoded data removed]",
      "text/plain": [
       "<Figure size 2000x2000 with 1 Axes>"
      ]
     },
     "metadata": {},
     "output_type": "display_data"
    }
   ],
   "source": [
    "from sklearn.tree import plot_tree\n",
    "import matplotlib.pyplot as plt\n",
    "\n",
    "tree_to_plot_1 = rf_1.estimators_[0]\n",
    "\n",
    "plt.figure(figsize = (20, 20))\n",
    "plot_tree(tree_to_plot_1, feature_names = cat_features_names,\n",
    "         filled = True, rounded = True, fontsize = 10)\n",
    "plt.title(\"Decision tree 0 from random forest\")\n",
    "plt.show()"
   ]
  },
  {
   "cell_type": "code",
   "execution_count": 27,
   "id": "cb40612b",
   "metadata": {},
   "outputs": [],
   "source": [
    "from sklearn.metrics import confusion_matrix\n",
    "\n",
    "cm_1 = confusion_matrix(y_test, predictions_1)"
   ]
  },
  {
   "cell_type": "code",
   "execution_count": 28,
   "id": "59c53fb9",
   "metadata": {},
   "outputs": [
    {
     "data": {
      "text/plain": [
       "<AxesSubplot:>"
      ]
     },
     "execution_count": 28,
     "metadata": {},
     "output_type": "execute_result"
    },
    {
     "data": {
      "image/png": "[encoded data removed]",
      "text/plain": [
       "<Figure size 640x480 with 2 Axes>"
      ]
     },
     "metadata": {},
     "output_type": "display_data"
    }
   ],
   "source": [
    "import seaborn as sns\n",
    "import numpy as np\n",
    "\n",
    "sns.heatmap(cm_1, annot = True, fmt = \"g\", cmap = \"Blues\")"
   ]
  },
  {
   "cell_type": "code",
   "execution_count": null,
   "id": "158842e9",
   "metadata": {},
   "outputs": [],
   "source": []
  },
  {
   "cell_type": "code",
   "execution_count": null,
   "id": "54ac902d",
   "metadata": {},
   "outputs": [],
   "source": []
  },
  {
   "cell_type": "code",
   "execution_count": null,
   "id": "c12efd37",
   "metadata": {},
   "outputs": [],
   "source": []
  },
  {
   "cell_type": "code",
   "execution_count": 21,
   "id": "51fba40c",
   "metadata": {},
   "outputs": [
    {
     "data": {
      "text/plain": [
       "0"
      ]
     },
     "execution_count": 21,
     "metadata": {},
     "output_type": "execute_result"
    }
   ],
   "source": [
    "# lets try mixed-effects random forest\n",
    "#os.system(\"pip install merf\")"
   ]
  },
  {
   "cell_type": "code",
   "execution_count": 29,
   "id": "ba3e6049",
   "metadata": {},
   "outputs": [
    {
     "data": {
      "text/plain": [
       "((7733, 1), (2578, 1), (7733,), (2578,))"
      ]
     },
     "execution_count": 29,
     "metadata": {},
     "output_type": "execute_result"
    }
   ],
   "source": [
    "from merf import MERF\n",
    "import numpy as np\n",
    "\n",
    "Z_train = np.ones((len(X_train), 1))\n",
    "Z_test = np.ones((len(X_test), 1))\n",
    "\n",
    "clusters_train = train[\"lfdn\"]\n",
    "clusters_test = test[\"lfdn\"]\n",
    "\n",
    "Z_train.shape, Z_test.shape, clusters_train.shape, clusters_test.shape"
   ]
  },
  {
   "cell_type": "code",
   "execution_count": 30,
   "id": "00630b45",
   "metadata": {},
   "outputs": [
    {
     "name": "stderr",
     "output_type": "stream",
     "text": [
      "INFO     [merf.py:307] Training GLL is -19704.492468529665 at iteration 1.\n",
      "INFO     [merf.py:307] Training GLL is -27219.146395078806 at iteration 2.\n",
      "INFO     [merf.py:307] Training GLL is -27635.05923590169 at iteration 3.\n",
      "INFO     [merf.py:307] Training GLL is -27714.378187095557 at iteration 4.\n",
      "INFO     [merf.py:307] Training GLL is -27715.54078926284 at iteration 5.\n",
      "INFO     [merf.py:307] Training GLL is -27723.5551859457 at iteration 6.\n",
      "INFO     [merf.py:307] Training GLL is -27685.610161717257 at iteration 7.\n",
      "INFO     [merf.py:307] Training GLL is -27742.606951436814 at iteration 8.\n",
      "INFO     [merf.py:307] Training GLL is -27728.249266628216 at iteration 9.\n",
      "INFO     [merf.py:307] Training GLL is -27753.690744825923 at iteration 10.\n",
      "INFO     [merf.py:307] Training GLL is -27755.470337263592 at iteration 11.\n",
      "INFO     [merf.py:307] Training GLL is -27745.516914259955 at iteration 12.\n",
      "INFO     [merf.py:307] Training GLL is -27766.75373774813 at iteration 13.\n",
      "INFO     [merf.py:307] Training GLL is -27804.054850426797 at iteration 14.\n",
      "INFO     [merf.py:307] Training GLL is -27823.392637655914 at iteration 15.\n",
      "INFO     [merf.py:307] Training GLL is -27803.02828369755 at iteration 16.\n",
      "INFO     [merf.py:307] Training GLL is -27778.197714509966 at iteration 17.\n",
      "INFO     [merf.py:307] Training GLL is -27770.03853706299 at iteration 18.\n",
      "INFO     [merf.py:307] Training GLL is -27762.687668363913 at iteration 19.\n",
      "INFO     [merf.py:307] Training GLL is -27801.938977749975 at iteration 20.\n"
     ]
    }
   ],
   "source": [
    "merf_1 = MERF()\n",
    "merf_1.fit(X_train, Z_train, clusters_train, y_train)\n",
    "\n",
    "preds_merf = merf_1.predict(X_test, Z_test, clusters_test)"
   ]
  },
  {
   "cell_type": "code",
   "execution_count": 43,
   "id": "249d3ef6",
   "metadata": {},
   "outputs": [
    {
     "data": {
      "text/plain": [
       "<AxesSubplot:>"
      ]
     },
     "execution_count": 43,
     "metadata": {},
     "output_type": "execute_result"
    },
    {
     "data": {
      "image/png": "[encoded data removed]",
      "text/plain": [
       "<Figure size 640x480 with 2 Axes>"
      ]
     },
     "metadata": {},
     "output_type": "display_data"
    }
   ],
   "source": [
    "cm_2 = confusion_matrix(y_test.ravel(), round(pd.DataFrame(preds_merf)))\n",
    "sns.heatmap(cm_2, annot = True, fmt = \"g\", cmap = \"Blues\")"
   ]
  },
  {
   "cell_type": "code",
   "execution_count": null,
   "id": "d46c4821",
   "metadata": {},
   "outputs": [],
   "source": []
  },
  {
   "cell_type": "code",
   "execution_count": null,
   "id": "331208c6",
   "metadata": {},
   "outputs": [],
   "source": []
  },
  {
   "cell_type": "code",
   "execution_count": null,
   "id": "d012d8c3",
   "metadata": {},
   "outputs": [],
   "source": []
  },
  {
   "cell_type": "markdown",
   "id": "d5841746",
   "metadata": {},
   "source": [
    "## Support vector machines"
   ]
  },
  {
   "cell_type": "code",
   "execution_count": 69,
   "id": "1c7d96d7",
   "metadata": {},
   "outputs": [],
   "source": [
    "from sklearn import svm\n",
    "\n",
    "svm_1 = svm.SVC(kernel = \"linear\")\n",
    "# sigmoid also kind of works, overfits with other kernel functions\n",
    "\n",
    "svm_1.fit(X_train, y_train)\n",
    "\n",
    "preds_svm = svm_1.predict(X_test)"
   ]
  },
  {
   "cell_type": "code",
   "execution_count": 70,
   "id": "02235d4f",
   "metadata": {},
   "outputs": [
    {
     "data": {
      "text/plain": [
       "<AxesSubplot:>"
      ]
     },
     "execution_count": 70,
     "metadata": {},
     "output_type": "execute_result"
    },
    {
     "data": {
      "image/png": "[encoded data removed]",
      "text/plain": [
       "<Figure size 640x480 with 2 Axes>"
      ]
     },
     "metadata": {},
     "output_type": "display_data"
    }
   ],
   "source": [
    "cm_3 = confusion_matrix(y_test.ravel(), preds_svm)\n",
    "sns.heatmap(cm_3, annot = True, fmt = \"g\", cmap = \"Blues\")"
   ]
  },
  {
   "cell_type": "code",
   "execution_count": null,
   "id": "20a6f95a",
   "metadata": {},
   "outputs": [],
   "source": []
  },
  {
   "cell_type": "code",
   "execution_count": null,
   "id": "d66f07ca",
   "metadata": {},
   "outputs": [],
   "source": []
  },
  {
   "cell_type": "code",
   "execution_count": null,
   "id": "8d749a6d",
   "metadata": {},
   "outputs": [],
   "source": []
  },
  {
   "cell_type": "markdown",
   "id": "18a65a2e",
   "metadata": {},
   "source": [
    "## Neural net"
   ]
  },
  {
   "cell_type": "code",
   "execution_count": 19,
   "id": "87362c83",
   "metadata": {},
   "outputs": [],
   "source": [
    "# specify train and test datasets\n",
    "from torch.utils.data import Dataset, DataLoader\n",
    "\n",
    "# define classes for train, validation, and test data\n",
    "class TrainDataset(Dataset):\n",
    "    def __init__(self, X, y):\n",
    "        self.X = X\n",
    "        self.y = y\n",
    "    def __len__(self):\n",
    "        return self.X.shape[0]\n",
    "    def __getitem__(self):\n",
    "        x = self.X\n",
    "        y = self.y\n",
    "        return x, y\n",
    "    \n",
    "class ValidDataset(TrainDataset):  # ValidDataset inherits attributes of TrainDataset\n",
    "    def __getitem__(self):\n",
    "        x = self.X\n",
    "        return x\n",
    "\n",
    "class TestDataset(TrainDataset):\n",
    "    def __getitem__(self):\n",
    "        x = self.x\n",
    "        return x\n",
    "\n",
    "# transform datasets using the classes\n",
    "train_set = TrainDataset(X_train, y_train)\n",
    "valid_set = ValidDataset(X_valid, y_valid)\n",
    "test_set = TestDataset(X_test, y_test)\n",
    "\n",
    "# define batch-size (first hyperparameter)\n",
    "batch_size = 8\n",
    "\n",
    "# define data-loaders using the defined batch_size\n",
    "train_loader = DataLoader(train_set, batch_size = batch_size, shuffle = True)\n",
    "valid_loader = DataLoader(valid_set, batch_size = batch_size, shuffle = False)\n",
    "test_loader = DataLoader(test_set, batch_size = batch_size, shuffle = False)"
   ]
  },
  {
   "cell_type": "code",
   "execution_count": 42,
   "id": "d4eeafc9",
   "metadata": {},
   "outputs": [],
   "source": [
    "# build the multi-layer perceptron\n",
    "import torch\n",
    "import torch.nn as nn\n",
    "\n",
    "device = torch.device(\"cuda\" if torch.cuda.is_available() else \"cpu\")\n",
    "\n",
    "feature_num = X_train.shape[1]\n",
    "hidden_size = 20\n",
    "output_classes = 1\n",
    "activation_function = nn.ReLU()\n",
    "\n",
    "# simple MLP, one layer so far, we will add more later\n",
    "class MLP(nn.Module):\n",
    "    def __init__(self, feature_num, hidden_size, output_classes, activation_function):\n",
    "        super(MLP, self).__init__()\n",
    "        self.linear1 = nn.Linear(feature_num, hidden_size)\n",
    "        self.linear2 = nn.Linear(hidden_size, hidden_size)\n",
    "        self.linear3 = nn.Linear(hidden_size, output_classes)\n",
    "        self.activation_function = nn.ReLU()\n",
    "        self.sigmoid = nn.Sigmoid()\n",
    "    def forward(self, x):\n",
    "        x = self.activation_function(self.linear1(x))\n",
    "        x = self.activation_function(self.linear2(x))\n",
    "        x = self.activation_function(self.linear3(x))\n",
    "        out = self.sigmoid(x)  # sigmoid for classification\n",
    "        return out"
   ]
  },
  {
   "cell_type": "code",
   "execution_count": 52,
   "id": "ec6d0393",
   "metadata": {},
   "outputs": [
    {
     "name": "stdout",
     "output_type": "stream",
     "text": [
      "MLP(\n",
      "  (linear1): Linear(in_features=82, out_features=20, bias=True)\n",
      "  (linear2): Linear(in_features=20, out_features=20, bias=True)\n",
      "  (linear3): Linear(in_features=20, out_features=1, bias=True)\n",
      "  (activation_function): ReLU()\n",
      "  (sigmoid): Sigmoid()\n",
      ")\n"
     ]
    }
   ],
   "source": [
    "# initialize model\n",
    "model = MLP(feature_num, hidden_size, output_classes, activation_function).to(device)\n",
    "# define optimizer and oprimization criterion\n",
    "optimizer = torch.optim.Adam(model.parameters())\n",
    "criterion = nn.MSELoss()\n",
    "\n",
    "print(model)"
   ]
  },
  {
   "cell_type": "code",
   "execution_count": 57,
   "id": "ea85270a",
   "metadata": {},
   "outputs": [],
   "source": [
    "# define number of epochs (next hyperparameter)\n",
    "epochs = 100\n",
    "\n",
    "\n",
    "# function to train model\n",
    "def train_model(model, train_loader, optimizer, criterion, batch_size, device):\n",
    "    \n",
    "    train_loss = 0\n",
    "    train_acc = 0\n",
    "\n",
    "    model.train()\n",
    "    #for batch_idx, batch_data in enumerate(train_loader):\n",
    "    if 1 == 1:    \n",
    "        # reset gradient\n",
    "        optimizer.zero_grad()\n",
    "        \n",
    "        # define data for this iteration\n",
    "        x, y = torch.from_numpy(X_train.values), torch.from_numpy(y_train.values)  #batch_data\n",
    "        x = x.to(device)\n",
    "        y = y.to(device)\n",
    "        \n",
    "        # run data trough model\n",
    "        output = model(x.to(torch.float32))\n",
    "        \n",
    "        # calculate loss\n",
    "        output = torch.flatten(output).numpy()\n",
    "        loss = criterion(output, y)\n",
    "        loss.backward()\n",
    "        losses.append(loss.item())\n",
    "        acc = (output.round() == y).float().mean()\n",
    "        \n",
    "        # accuracy and loss for return\n",
    "        train_loss += loss.item()\n",
    "        train_acc += acc.item()\n",
    "        \n",
    "        # update parameters\n",
    "        optimizer.step()\n",
    "        \n",
    "    return train_loss / batch_idx, train_acc / batch_idx\n",
    "        \n",
    "        \n",
    "def evaluate_model(model, valid_loader, criterion, batch_size, device):\n",
    "    \n",
    "    valid_loss = 0\n",
    "    valid_acc = 0\n",
    "    \n",
    "    model.eval()\n",
    "    \n",
    "    with torch.no_grad():\n",
    "        #for batch_idx, batch_data in enumerate(valid_loader):\n",
    "            x, y = X_valid.values, y_valid.values  #batch_data\n",
    "            x = x.to(device)\n",
    "            y = y.to(device)\n",
    "            \n",
    "            output = model(x)\n",
    "            \n",
    "            loss = criterion(output, y)\n",
    "            acc = (output.round() == y).float().mean()\n",
    "            \n",
    "            valid_loss += loss.item()\n",
    "            valid_acc += acc.item()\n",
    "            \n",
    "    return valid_loss / batch_idx, valid_acc / batch_idx\n",
    "    \n",
    "\n",
    "def test_model(model, test_loader, criterion, batch_size, device):\n",
    "    \n",
    "    test_loss = 0\n",
    "    test_acc = 0\n",
    "    \n",
    "    model.eval()\n",
    "    \n",
    "    with torch.no_grad():\n",
    "        #for batch_idx, batch_data in enumerate(test_loader):\n",
    "            x, y = X_test.values, y_test.values  #batch_data\n",
    "            x = x.to_device()\n",
    "            y = y.to_device()\n",
    "            \n",
    "            output = model(x)\n",
    "            \n",
    "            loss = criterion(output, y)\n",
    "            acc = (output.round() == y).float().mean()\n",
    "            \n",
    "            test_loss += loss.item()\n",
    "            test_acc += acc.item()\n",
    "            \n",
    "    return output, test_loss / batch_idx, test_acc / batch_idx"
   ]
  },
  {
   "cell_type": "code",
   "execution_count": 58,
   "id": "993f84bb",
   "metadata": {},
   "outputs": [
    {
     "ename": "RuntimeError",
     "evalue": "Can't call numpy() on Tensor that requires grad. Use tensor.detach().numpy() instead.",
     "output_type": "error",
     "traceback": [
      "\u001b[1;31m---------------------------------------------------------------------------\u001b[0m",
      "\u001b[1;31mRuntimeError\u001b[0m                              Traceback (most recent call last)",
      "\u001b[1;32m~\\AppData\\Local\\Temp\\ipykernel_1876\\477120108.py\u001b[0m in \u001b[0;36m<module>\u001b[1;34m\u001b[0m\n\u001b[0;32m      7\u001b[0m \u001b[1;32mfor\u001b[0m \u001b[0mepoch\u001b[0m \u001b[1;32min\u001b[0m \u001b[0mrange\u001b[0m\u001b[1;33m(\u001b[0m\u001b[0mepochs\u001b[0m\u001b[1;33m)\u001b[0m\u001b[1;33m:\u001b[0m\u001b[1;33m\u001b[0m\u001b[1;33m\u001b[0m\u001b[0m\n\u001b[0;32m      8\u001b[0m \u001b[1;33m\u001b[0m\u001b[0m\n\u001b[1;32m----> 9\u001b[1;33m     \u001b[0mtrain_loss\u001b[0m\u001b[1;33m,\u001b[0m \u001b[0mtrain_acc\u001b[0m \u001b[1;33m=\u001b[0m \u001b[0mtrain_model\u001b[0m\u001b[1;33m(\u001b[0m\u001b[0mmodel\u001b[0m\u001b[1;33m,\u001b[0m \u001b[0mtrain_loader\u001b[0m\u001b[1;33m,\u001b[0m \u001b[0moptimizer\u001b[0m\u001b[1;33m,\u001b[0m \u001b[0mcriterion\u001b[0m\u001b[1;33m,\u001b[0m \u001b[0mbatch_size\u001b[0m\u001b[1;33m,\u001b[0m \u001b[0mdevice\u001b[0m\u001b[1;33m)\u001b[0m\u001b[1;33m\u001b[0m\u001b[1;33m\u001b[0m\u001b[0m\n\u001b[0m\u001b[0;32m     10\u001b[0m     \u001b[0mvalid_loss\u001b[0m\u001b[1;33m,\u001b[0m \u001b[0mvalid_acc\u001b[0m \u001b[1;33m=\u001b[0m \u001b[0mvalid_model\u001b[0m\u001b[1;33m(\u001b[0m\u001b[0mmodel\u001b[0m\u001b[1;33m,\u001b[0m \u001b[0mvalid_loader\u001b[0m\u001b[1;33m,\u001b[0m \u001b[0mcriterion\u001b[0m\u001b[1;33m,\u001b[0m \u001b[0mbatch_size\u001b[0m\u001b[1;33m,\u001b[0m \u001b[0mdevice\u001b[0m\u001b[1;33m)\u001b[0m\u001b[1;33m\u001b[0m\u001b[1;33m\u001b[0m\u001b[0m\n\u001b[0;32m     11\u001b[0m \u001b[1;33m\u001b[0m\u001b[0m\n",
      "\u001b[1;32m~\\AppData\\Local\\Temp\\ipykernel_1876\\3759045032.py\u001b[0m in \u001b[0;36mtrain_model\u001b[1;34m(model, train_loader, optimizer, criterion, batch_size, device)\u001b[0m\n\u001b[0;32m     24\u001b[0m \u001b[1;33m\u001b[0m\u001b[0m\n\u001b[0;32m     25\u001b[0m         \u001b[1;31m# calculate loss\u001b[0m\u001b[1;33m\u001b[0m\u001b[1;33m\u001b[0m\u001b[0m\n\u001b[1;32m---> 26\u001b[1;33m         \u001b[0moutput\u001b[0m \u001b[1;33m=\u001b[0m \u001b[0mtorch\u001b[0m\u001b[1;33m.\u001b[0m\u001b[0mflatten\u001b[0m\u001b[1;33m(\u001b[0m\u001b[0moutput\u001b[0m\u001b[1;33m)\u001b[0m\u001b[1;33m.\u001b[0m\u001b[0mnumpy\u001b[0m\u001b[1;33m(\u001b[0m\u001b[1;33m)\u001b[0m\u001b[1;33m\u001b[0m\u001b[1;33m\u001b[0m\u001b[0m\n\u001b[0m\u001b[0;32m     27\u001b[0m         \u001b[0mloss\u001b[0m \u001b[1;33m=\u001b[0m \u001b[0mcriterion\u001b[0m\u001b[1;33m(\u001b[0m\u001b[0moutput\u001b[0m\u001b[1;33m,\u001b[0m \u001b[0my\u001b[0m\u001b[1;33m)\u001b[0m\u001b[1;33m\u001b[0m\u001b[1;33m\u001b[0m\u001b[0m\n\u001b[0;32m     28\u001b[0m         \u001b[0mloss\u001b[0m\u001b[1;33m.\u001b[0m\u001b[0mbackward\u001b[0m\u001b[1;33m(\u001b[0m\u001b[1;33m)\u001b[0m\u001b[1;33m\u001b[0m\u001b[1;33m\u001b[0m\u001b[0m\n",
      "\u001b[1;31mRuntimeError\u001b[0m: Can't call numpy() on Tensor that requires grad. Use tensor.detach().numpy() instead."
     ]
    }
   ],
   "source": [
    "# model training\n",
    "import numpy as np\n",
    "\n",
    "best_loss = - np.inf\n",
    "best_weights = None\n",
    "\n",
    "for epoch in range(epochs):\n",
    "    \n",
    "    train_loss, train_acc = train_model(model, train_loader, optimizer, criterion, batch_size, device)\n",
    "    valid_loss, valid_acc = valid_model(model, valid_loader, criterion, batch_size, device)\n",
    "    \n",
    "    if valid_loss > best_loss:\n",
    "        best_loss = valid_loss\n",
    "        torch.save(model.state_dict(), \"mlp_1.pt\")\n",
    "    \n",
    "    print(f\"Epoch: {epoch+1:02}\")\n",
    "    print(f\"\\Train Loss: {train_loss:.3f} | Train Accuracy: {train_acc:.2f}%\")\n",
    "    print(f\"\\Validation Loss: {valid_loss:.3f} | Validation Accuracy: {valid_acc:.2f}%\")"
   ]
  },
  {
   "cell_type": "code",
   "execution_count": null,
   "id": "49ceb021",
   "metadata": {},
   "outputs": [],
   "source": [
    "# try model accuracy on test data\n",
    "model.state_dict(torch.load(\"mlp_1.pt\"))\n",
    "\n",
    "predictions_mlp, test_loss, test_acc = evaluate(model, test_loader, criterion, device)\n",
    "\n",
    "print(f\"Test Loss: {test_loss:.3f} | Test Accuracy: {test_acc:.2f}\")"
   ]
  },
  {
   "cell_type": "code",
   "execution_count": null,
   "id": "4ca60f68",
   "metadata": {},
   "outputs": [],
   "source": [
    "cm_4 = confusion_matrix(y_test.ravel(), predictions_mlp)\n",
    "sns.heatmap(cm_4, annot = True, fmt = \"g\", cmap = \"Blues\")"
   ]
  },
  {
   "cell_type": "code",
   "execution_count": null,
   "id": "42cffaea",
   "metadata": {},
   "outputs": [],
   "source": []
  },
  {
   "cell_type": "code",
   "execution_count": null,
   "id": "a9916e9e",
   "metadata": {},
   "outputs": [],
   "source": []
  },
  {
   "cell_type": "code",
   "execution_count": null,
   "id": "556333b4",
   "metadata": {},
   "outputs": [],
   "source": []
  },
  {
   "cell_type": "code",
   "execution_count": null,
   "id": "cd6e5307",
   "metadata": {},
   "outputs": [],
   "source": []
  },
  {
   "cell_type": "code",
   "execution_count": null,
   "id": "6ad862c7",
   "metadata": {},
   "outputs": [],
   "source": [
    "# other approach for now"
   ]
  },
  {
   "cell_type": "code",
   "execution_count": 80,
   "id": "b7849960",
   "metadata": {},
   "outputs": [],
   "source": [
    "import tensorflow as tf\n",
    "import keras\n",
    "from tensorflow.keras import layers, models\n",
    "\n",
    "model_2 = models.Sequential()\n",
    "\n",
    "layer_1 = layers.Dense(1000, activation = \"relu\")\n",
    "layer_3 = layers.Dense(1, activation = \"sigmoid\")\n",
    "\n",
    "model_2.add(layers.InputLayer(input_shape = (X_train.shape[1],)))\n",
    "model_2.add(layer_1)\n",
    "model_2.add(layer_3)\n",
    "\n",
    "sgd = keras.optimizers.SGD(learning_rate = 0.1)"
   ]
  },
  {
   "cell_type": "code",
   "execution_count": 83,
   "id": "6178267b",
   "metadata": {},
   "outputs": [
    {
     "name": "stdout",
     "output_type": "stream",
     "text": [
      "Model: \"sequential_3\"\n",
      "_________________________________________________________________\n",
      " Layer (type)                Output Shape              Param #   \n",
      "=================================================================\n",
      " dense_7 (Dense)             (None, 1000)              83000     \n",
      "                                                                 \n",
      " dense_8 (Dense)             (None, 1)                 1001      \n",
      "                                                                 \n",
      "=================================================================\n",
      "Total params: 84,001\n",
      "Trainable params: 84,001\n",
      "Non-trainable params: 0\n",
      "_________________________________________________________________\n"
     ]
    }
   ],
   "source": [
    "model_2.compile(loss = \"binary_crossentropy\", optimizer = \"adam\", metrics = [\"accuracy\"])\n",
    "\n",
    "model_2.summary()"
   ]
  },
  {
   "cell_type": "code",
   "execution_count": 84,
   "id": "1e5c4492",
   "metadata": {},
   "outputs": [
    {
     "name": "stdout",
     "output_type": "stream",
     "text": [
      "Epoch 1/10\n",
      "967/967 [==============================] - 1s 903us/step - loss: 0.3902 - accuracy: 0.8307 - val_loss: 0.3359 - val_accuracy: 0.8503\n",
      "Epoch 2/10\n",
      "967/967 [==============================] - 1s 819us/step - loss: 0.3521 - accuracy: 0.8452 - val_loss: 0.3252 - val_accuracy: 0.8549\n",
      "Epoch 3/10\n",
      "967/967 [==============================] - 1s 855us/step - loss: 0.3374 - accuracy: 0.8528 - val_loss: 0.3082 - val_accuracy: 0.8666\n",
      "Epoch 4/10\n",
      "967/967 [==============================] - 1s 812us/step - loss: 0.3254 - accuracy: 0.8603 - val_loss: 0.3295 - val_accuracy: 0.8588\n",
      "Epoch 5/10\n",
      "967/967 [==============================] - 1s 836us/step - loss: 0.3231 - accuracy: 0.8583 - val_loss: 0.3188 - val_accuracy: 0.8530\n",
      "Epoch 6/10\n",
      "967/967 [==============================] - 1s 823us/step - loss: 0.3111 - accuracy: 0.8628 - val_loss: 0.3065 - val_accuracy: 0.8646\n",
      "Epoch 7/10\n",
      "967/967 [==============================] - 1s 815us/step - loss: 0.3075 - accuracy: 0.8654 - val_loss: 0.3271 - val_accuracy: 0.8607\n",
      "Epoch 8/10\n",
      "967/967 [==============================] - 1s 832us/step - loss: 0.3023 - accuracy: 0.8686 - val_loss: 0.3244 - val_accuracy: 0.8627\n",
      "Epoch 9/10\n",
      "967/967 [==============================] - 1s 814us/step - loss: 0.3009 - accuracy: 0.8702 - val_loss: 0.3021 - val_accuracy: 0.8728\n",
      "Epoch 10/10\n",
      "967/967 [==============================] - 1s 814us/step - loss: 0.2956 - accuracy: 0.8715 - val_loss: 0.3051 - val_accuracy: 0.8728\n",
      "81/81 [==============================] - 0s 705us/step - loss: 0.3051 - accuracy: 0.8728\n"
     ]
    },
    {
     "data": {
      "text/plain": [
       "[0.305076539516449, 0.8727695941925049]"
      ]
     },
     "execution_count": 84,
     "metadata": {},
     "output_type": "execute_result"
    }
   ],
   "source": [
    "history_2 = model_2.fit(X_train_np, y_train, validation_data = (X_test_np, y_test), epochs = 10, batch_size = 8)\n",
    "model_2_eval = model_2.evaluate(X_test, y_test)\n",
    "model_2_eval"
   ]
  },
  {
   "cell_type": "code",
   "execution_count": 85,
   "id": "afb60019",
   "metadata": {},
   "outputs": [
    {
     "data": {
      "image/png": "[encoded data removed]",
      "text/plain": [
       "<Figure size 640x480 with 1 Axes>"
      ]
     },
     "metadata": {},
     "output_type": "display_data"
    }
   ],
   "source": [
    "import matplotlib.pyplot as plt\n",
    "\n",
    "plt.plot(history_2.history[\"accuracy\"])\n",
    "plt.show()"
   ]
  },
  {
   "cell_type": "code",
   "execution_count": 86,
   "id": "9ed1164c",
   "metadata": {},
   "outputs": [
    {
     "name": "stdout",
     "output_type": "stream",
     "text": [
      "81/81 [==============================] - 0s 503us/step\n"
     ]
    },
    {
     "data": {
      "text/plain": [
       "<AxesSubplot:>"
      ]
     },
     "execution_count": 86,
     "metadata": {},
     "output_type": "execute_result"
    },
    {
     "data": {
      "image/png": "[encoded data removed]",
      "text/plain": [
       "<Figure size 640x480 with 2 Axes>"
      ]
     },
     "metadata": {},
     "output_type": "display_data"
    }
   ],
   "source": [
    "from sklearn.metrics import confusion_matrix\n",
    "import seaborn as sns\n",
    "\n",
    "preds_mlp = np.round(model_2.predict(X_test_np), 0)\n",
    "\n",
    "cm_5 = confusion_matrix(y_test, preds_mlp)\n",
    "\n",
    "sns.heatmap(cm_5, annot = True, fmt = \"g\", cmap = \"Blues\")"
   ]
  },
  {
   "cell_type": "code",
   "execution_count": null,
   "id": "be93b17e",
   "metadata": {},
   "outputs": [],
   "source": []
  },
  {
   "cell_type": "code",
   "execution_count": null,
   "id": "eb67c91c",
   "metadata": {},
   "outputs": [],
   "source": []
  },
  {
   "cell_type": "code",
   "execution_count": null,
   "id": "40f820db",
   "metadata": {},
   "outputs": [],
   "source": []
  },
  {
   "cell_type": "code",
   "execution_count": 58,
   "id": "50745996",
   "metadata": {},
   "outputs": [
    {
     "data": {
      "text/plain": [
       "2    6155\n",
       "1    1578\n",
       "Name: decision, dtype: int64"
      ]
     },
     "execution_count": 58,
     "metadata": {},
     "output_type": "execute_result"
    }
   ],
   "source": [
    "y_train.value_counts()"
   ]
  },
  {
   "cell_type": "code",
   "execution_count": 59,
   "id": "5cd35c1b",
   "metadata": {},
   "outputs": [
    {
     "data": {
      "text/plain": [
       "decision\n",
       "1           6155\n",
       "0           1578\n",
       "dtype: int64"
      ]
     },
     "execution_count": 59,
     "metadata": {},
     "output_type": "execute_result"
    }
   ],
   "source": [
    "y_train = pd.DataFrame(y_train)\n",
    "y_train = y_train.replace({1:0, 2:1})\n",
    "y_train.value_counts()"
   ]
  },
  {
   "cell_type": "code",
   "execution_count": 71,
   "id": "df97e737",
   "metadata": {},
   "outputs": [
    {
     "data": {
      "text/plain": [
       "decision\n",
       "1           2047\n",
       "0            531\n",
       "dtype: int64"
      ]
     },
     "execution_count": 71,
     "metadata": {},
     "output_type": "execute_result"
    }
   ],
   "source": [
    "y_test = pd.DataFrame(y_test)\n",
    "y_test = y_test.replace({1:0, 2:1})\n",
    "y_test.value_counts()"
   ]
  },
  {
   "cell_type": "code",
   "execution_count": 60,
   "id": "d310fb5e",
   "metadata": {},
   "outputs": [],
   "source": [
    "import pandas as pd\n",
    "import numpy as np\n",
    "import matplotlib.pyplot as plt\n",
    "from sklearn.preprocessing import LabelEncoder\n",
    "from keras.wrappers.scikit_learn import KerasClassifier\n",
    "from keras.utils import np_utils\n",
    "\n",
    "from keras.models import Sequential\n",
    "from keras.layers import Dense, Dropout\n",
    "from keras.callbacks import EarlyStopping"
   ]
  },
  {
   "cell_type": "code",
   "execution_count": 61,
   "id": "2429ba3e",
   "metadata": {},
   "outputs": [
    {
     "name": "stdout",
     "output_type": "stream",
     "text": [
      "<class 'pandas.core.frame.DataFrame'>\n",
      "RangeIndex: 10311 entries, 0 to 10310\n",
      "Data columns (total 24 columns):\n",
      " #   Column                Non-Null Count  Dtype  \n",
      "---  ------                --------------  -----  \n",
      " 0   lfdn                  10311 non-null  int64  \n",
      " 1   purchase_CHO          10311 non-null  int64  \n",
      " 2   purchase_PA           10311 non-null  int64  \n",
      " 3   purchase_GB           10311 non-null  int64  \n",
      " 4   rank_GB               10311 non-null  int64  \n",
      " 5   rank_CHO              10311 non-null  int64  \n",
      " 6   rank_CHEESE           10311 non-null  int64  \n",
      " 7   rank_WHEAT            10311 non-null  int64  \n",
      " 8   rank_TOM              10311 non-null  int64  \n",
      " 9   age                   10311 non-null  int64  \n",
      " 10  gender                10311 non-null  object \n",
      " 11  country               10311 non-null  int64  \n",
      " 12  education             10311 non-null  object \n",
      " 13  occupation            10311 non-null  object \n",
      " 14  av_income             10311 non-null  int64  \n",
      " 15  environment           10311 non-null  object \n",
      " 16  Country_Name          10311 non-null  object \n",
      " 17  Generation            10311 non-null  object \n",
      " 18  av_income_factorized  10311 non-null  object \n",
      " 19  choice                10311 non-null  object \n",
      " 20  decision              10311 non-null  int64  \n",
      " 21  price_cn              10311 non-null  float64\n",
      " 22  price_no_cn           10311 non-null  float64\n",
      " 23  product_type          10311 non-null  object \n",
      "dtypes: float64(2), int64(13), object(9)\n",
      "memory usage: 1.9+ MB\n"
     ]
    }
   ],
   "source": [
    "data.info()"
   ]
  },
  {
   "cell_type": "code",
   "execution_count": 62,
   "id": "5f9d57e0",
   "metadata": {},
   "outputs": [
    {
     "data": {
      "text/plain": [
       "((7733, 82), (7733, 1))"
      ]
     },
     "execution_count": 62,
     "metadata": {},
     "output_type": "execute_result"
    }
   ],
   "source": [
    "X_train_np = np.array(X_train)\n",
    "y_train_np = y_train.values\n",
    "\n",
    "X_train_np.shape, y_train_np.shape"
   ]
  },
  {
   "cell_type": "code",
   "execution_count": 63,
   "id": "d8f6e455",
   "metadata": {},
   "outputs": [
    {
     "data": {
      "text/plain": [
       "array([[54.  ,  0.  ,  2.49, ...,  0.  ,  0.  ,  1.  ],\n",
       "       [67.  ,  0.  ,  4.99, ...,  0.  ,  1.  ,  0.  ],\n",
       "       [60.  ,  0.  ,  1.79, ...,  0.  ,  0.  ,  1.  ],\n",
       "       ...,\n",
       "       [60.  ,  0.  ,  2.49, ...,  0.  ,  0.  ,  1.  ],\n",
       "       [60.  ,  0.  ,  3.49, ...,  0.  ,  1.  ,  0.  ],\n",
       "       [43.  ,  1.  ,  1.79, ...,  0.  ,  0.  ,  1.  ]])"
      ]
     },
     "execution_count": 63,
     "metadata": {},
     "output_type": "execute_result"
    }
   ],
   "source": [
    "X_train_np"
   ]
  },
  {
   "cell_type": "code",
   "execution_count": 67,
   "id": "aba009a4",
   "metadata": {},
   "outputs": [
    {
     "name": "stdout",
     "output_type": "stream",
     "text": [
      "Model: \"sequential_2\"\n",
      "_________________________________________________________________\n",
      " Layer (type)                Output Shape              Param #   \n",
      "=================================================================\n",
      " dense_4 (Dense)             (None, 16)                1328      \n",
      "                                                                 \n",
      " dense_5 (Dense)             (None, 16)                272       \n",
      "                                                                 \n",
      " dense_6 (Dense)             (None, 1)                 17        \n",
      "                                                                 \n",
      "=================================================================\n",
      "Total params: 1,617\n",
      "Trainable params: 1,617\n",
      "Non-trainable params: 0\n",
      "_________________________________________________________________\n",
      "Epoch 1/80\n",
      "619/619 [==============================] - 1s 1ms/step - loss: 0.4987 - accuracy: 0.7892 - val_loss: 0.4968 - val_accuracy: 0.7757\n",
      "Epoch 2/80\n",
      "619/619 [==============================] - 1s 841us/step - loss: 0.3800 - accuracy: 0.8251 - val_loss: 0.3753 - val_accuracy: 0.8274\n",
      "Epoch 3/80\n",
      "619/619 [==============================] - 0s 769us/step - loss: 0.3294 - accuracy: 0.8573 - val_loss: 0.3543 - val_accuracy: 0.8487\n",
      "Epoch 4/80\n",
      "619/619 [==============================] - 0s 761us/step - loss: 0.3242 - accuracy: 0.8561 - val_loss: 0.3523 - val_accuracy: 0.8481\n",
      "Epoch 5/80\n",
      "619/619 [==============================] - 0s 785us/step - loss: 0.3182 - accuracy: 0.8603 - val_loss: 0.3538 - val_accuracy: 0.8429\n",
      "Epoch 6/80\n",
      "619/619 [==============================] - 0s 766us/step - loss: 0.3157 - accuracy: 0.8586 - val_loss: 0.3508 - val_accuracy: 0.8565\n",
      "Epoch 7/80\n",
      "619/619 [==============================] - 0s 770us/step - loss: 0.3142 - accuracy: 0.8624 - val_loss: 0.3491 - val_accuracy: 0.8584\n",
      "Epoch 8/80\n",
      "619/619 [==============================] - 0s 768us/step - loss: 0.3110 - accuracy: 0.8652 - val_loss: 0.3521 - val_accuracy: 0.8552\n",
      "Epoch 9/80\n",
      "619/619 [==============================] - 0s 781us/step - loss: 0.3106 - accuracy: 0.8663 - val_loss: 0.3492 - val_accuracy: 0.8591\n",
      "Epoch 10/80\n",
      "619/619 [==============================] - 0s 790us/step - loss: 0.3093 - accuracy: 0.8665 - val_loss: 0.3468 - val_accuracy: 0.8507\n",
      "Epoch 11/80\n",
      "619/619 [==============================] - 1s 811us/step - loss: 0.3076 - accuracy: 0.8710 - val_loss: 0.3420 - val_accuracy: 0.8604\n",
      "Epoch 12/80\n",
      "619/619 [==============================] - 1s 813us/step - loss: 0.3064 - accuracy: 0.8671 - val_loss: 0.3458 - val_accuracy: 0.8662\n",
      "Epoch 13/80\n",
      "619/619 [==============================] - 0s 776us/step - loss: 0.3081 - accuracy: 0.8671 - val_loss: 0.3406 - val_accuracy: 0.8565\n",
      "Epoch 14/80\n",
      "619/619 [==============================] - 0s 790us/step - loss: 0.3060 - accuracy: 0.8670 - val_loss: 0.3427 - val_accuracy: 0.8681\n",
      "Epoch 15/80\n",
      "619/619 [==============================] - 0s 770us/step - loss: 0.3033 - accuracy: 0.8691 - val_loss: 0.3468 - val_accuracy: 0.8636\n",
      "Epoch 16/80\n",
      "619/619 [==============================] - 0s 783us/step - loss: 0.3044 - accuracy: 0.8694 - val_loss: 0.3470 - val_accuracy: 0.8546\n",
      "Epoch 17/80\n",
      "619/619 [==============================] - 1s 815us/step - loss: 0.3007 - accuracy: 0.8715 - val_loss: 0.3426 - val_accuracy: 0.8636\n",
      "Epoch 18/80\n",
      "619/619 [==============================] - 0s 804us/step - loss: 0.2986 - accuracy: 0.8739 - val_loss: 0.3394 - val_accuracy: 0.8565\n",
      "Epoch 19/80\n",
      "619/619 [==============================] - 0s 799us/step - loss: 0.2975 - accuracy: 0.8713 - val_loss: 0.3425 - val_accuracy: 0.8513\n",
      "Epoch 20/80\n",
      "619/619 [==============================] - 0s 790us/step - loss: 0.2967 - accuracy: 0.8710 - val_loss: 0.3407 - val_accuracy: 0.8552\n",
      "Epoch 21/80\n",
      "619/619 [==============================] - 1s 812us/step - loss: 0.2958 - accuracy: 0.8749 - val_loss: 0.3355 - val_accuracy: 0.8578\n",
      "Epoch 22/80\n",
      "619/619 [==============================] - 0s 791us/step - loss: 0.2943 - accuracy: 0.8733 - val_loss: 0.3352 - val_accuracy: 0.8643\n",
      "Epoch 23/80\n",
      "619/619 [==============================] - 0s 786us/step - loss: 0.2959 - accuracy: 0.8757 - val_loss: 0.3362 - val_accuracy: 0.8597\n",
      "Epoch 24/80\n",
      "619/619 [==============================] - 0s 791us/step - loss: 0.2917 - accuracy: 0.8760 - val_loss: 0.3417 - val_accuracy: 0.8688\n",
      "Epoch 25/80\n",
      "619/619 [==============================] - 0s 791us/step - loss: 0.2913 - accuracy: 0.8773 - val_loss: 0.3352 - val_accuracy: 0.8623\n",
      "Epoch 26/80\n",
      "619/619 [==============================] - 0s 786us/step - loss: 0.2898 - accuracy: 0.8778 - val_loss: 0.3369 - val_accuracy: 0.8571\n",
      "Epoch 27/80\n",
      "619/619 [==============================] - 0s 769us/step - loss: 0.2875 - accuracy: 0.8780 - val_loss: 0.3363 - val_accuracy: 0.8559\n",
      "Epoch 28/80\n",
      "619/619 [==============================] - 0s 770us/step - loss: 0.2879 - accuracy: 0.8791 - val_loss: 0.3335 - val_accuracy: 0.8610\n",
      "Epoch 29/80\n",
      "619/619 [==============================] - 1s 821us/step - loss: 0.2878 - accuracy: 0.8801 - val_loss: 0.3383 - val_accuracy: 0.8507\n",
      "Epoch 30/80\n",
      "619/619 [==============================] - 0s 802us/step - loss: 0.2836 - accuracy: 0.8768 - val_loss: 0.3372 - val_accuracy: 0.8630\n",
      "Epoch 31/80\n",
      "619/619 [==============================] - 0s 765us/step - loss: 0.2841 - accuracy: 0.8789 - val_loss: 0.3464 - val_accuracy: 0.8643\n",
      "Epoch 32/80\n",
      "619/619 [==============================] - 0s 781us/step - loss: 0.2821 - accuracy: 0.8799 - val_loss: 0.3359 - val_accuracy: 0.8617\n",
      "Epoch 33/80\n",
      "619/619 [==============================] - 0s 765us/step - loss: 0.2800 - accuracy: 0.8804 - val_loss: 0.3469 - val_accuracy: 0.8429\n",
      "Epoch 34/80\n",
      "619/619 [==============================] - 0s 776us/step - loss: 0.2801 - accuracy: 0.8836 - val_loss: 0.3390 - val_accuracy: 0.8520\n"
     ]
    }
   ],
   "source": [
    "model = Sequential()\n",
    "model.add(Dense(16, input_shape = (X_train_np.shape[1],), activation = \"relu\"))\n",
    "model.add(Dense(16, activation = \"relu\"))\n",
    "model.add(Dense(1, activation = \"sigmoid\"))\n",
    "model.summary()\n",
    "\n",
    "model.compile(optimizer = \"Adam\",\n",
    "             loss = \"binary_crossentropy\",\n",
    "             metrics = [\"accuracy\"])\n",
    "\n",
    "es = EarlyStopping(monitor = \"val_accuracy\",\n",
    "                  mode = \"max\",\n",
    "                  patience = 10,\n",
    "                  restore_best_weights = True)\n",
    "\n",
    "history = model.fit(X_train_np,\n",
    "                   y_train_np,\n",
    "                   callbacks=[es],\n",
    "                   epochs=80,\n",
    "                   batch_size = 10,\n",
    "                   validation_split = 0.2,\n",
    "                   shuffle = True,\n",
    "                   verbose = 1)"
   ]
  },
  {
   "cell_type": "code",
   "execution_count": 69,
   "id": "ce41f17a",
   "metadata": {},
   "outputs": [
    {
     "data": {
      "image/png": "[encoded data removed]",
      "text/plain": [
       "<Figure size 640x480 with 1 Axes>"
      ]
     },
     "metadata": {},
     "output_type": "display_data"
    }
   ],
   "source": [
    "history_dict = history.history\n",
    "\n",
    "loss_values = history_dict[\"loss\"]\n",
    "val_loss_values = history_dict[\"val_loss\"]\n",
    "\n",
    "epochs = range(1, len(loss_values) + 1)\n",
    "\n",
    "plt.plot(epochs, loss_values, \"bo\", label = \"Training loss\")\n",
    "plt.plot(epochs, val_loss_values, \"orange\", label = \"Validation loss\")\n",
    "plt.title(\"Training and validation loss\")\n",
    "plt.xlabel(\"Epochs\")\n",
    "plt.ylabel(\"Loss\")\n",
    "plt.legend()\n",
    "plt.show()"
   ]
  },
  {
   "cell_type": "code",
   "execution_count": 70,
   "id": "20e23899",
   "metadata": {},
   "outputs": [
    {
     "data": {
      "image/png": "[encoded data removed]",
      "text/plain": [
       "<Figure size 640x480 with 1 Axes>"
      ]
     },
     "metadata": {},
     "output_type": "display_data"
    },
    {
     "data": {
      "text/plain": [
       "0.8687782883644104"
      ]
     },
     "execution_count": 70,
     "metadata": {},
     "output_type": "execute_result"
    }
   ],
   "source": [
    "acc = history.history[\"accuracy\"]\n",
    "val_acc = history.history[\"val_accuracy\"]\n",
    "\n",
    "epochs = range(1, len(acc) + 1)\n",
    "\n",
    "plt.plot(epochs, acc, \"bo\", label = \"Training accuracy\")\n",
    "plt.plot(epochs, val_acc, \"orange\", label = \"Validation accuracy\")\n",
    "plt.title(\"Training and validation accuracy\")\n",
    "plt.xlabel(\"Epochs\")\n",
    "plt.ylabel(\"Accuracy\")\n",
    "plt.legend()\n",
    "plt.show()\n",
    "\n",
    "np.max(val_acc)"
   ]
  },
  {
   "cell_type": "code",
   "execution_count": 73,
   "id": "38fb9e8b",
   "metadata": {},
   "outputs": [],
   "source": [
    "X_test_np = np.array(X_test)"
   ]
  },
  {
   "cell_type": "code",
   "execution_count": 76,
   "id": "c8c6e7f2",
   "metadata": {},
   "outputs": [
    {
     "name": "stdout",
     "output_type": "stream",
     "text": [
      "81/81 [==============================] - 0s 424us/step\n",
      "[[ 279  252]\n",
      " [  91 1956]]\n",
      "              precision    recall  f1-score   support\n",
      "\n",
      "           0       0.75      0.53      0.62       531\n",
      "           1       0.89      0.96      0.92      2047\n",
      "\n",
      "    accuracy                           0.87      2578\n",
      "   macro avg       0.82      0.74      0.77      2578\n",
      "weighted avg       0.86      0.87      0.86      2578\n",
      "\n"
     ]
    }
   ],
   "source": [
    "from sklearn.metrics import confusion_matrix\n",
    "from sklearn.metrics import classification_report\n",
    "\n",
    "preds_bmlp = np.round(model.predict(X_test_np), 0)\n",
    "\n",
    "print(confusion_matrix(y_test, preds_bmlp))\n",
    "\n",
    "print(classification_report(y_test, preds_bmlp))"
   ]
  },
  {
   "cell_type": "code",
   "execution_count": 79,
   "id": "4209a50f",
   "metadata": {},
   "outputs": [
    {
     "data": {
      "text/plain": [
       "<AxesSubplot:>"
      ]
     },
     "execution_count": 79,
     "metadata": {},
     "output_type": "execute_result"
    },
    {
     "data": {
      "image/png": "[encoded data removed]",
      "text/plain": [
       "<Figure size 640x480 with 2 Axes>"
      ]
     },
     "metadata": {},
     "output_type": "display_data"
    }
   ],
   "source": [
    "import seaborn as sns\n",
    "\n",
    "cm_6 = confusion_matrix(y_test, preds_bmlp)\n",
    "sns.heatmap(cm_6, annot = True, fmt = \"g\", cmap = \"Blues\")"
   ]
  },
  {
   "cell_type": "code",
   "execution_count": null,
   "id": "76b5f3b2",
   "metadata": {},
   "outputs": [],
   "source": []
  }
 ],
 "metadata": {
  "kernelspec": {
   "display_name": "Python 3 (ipykernel)",
   "language": "python",
   "name": "python3"
  },
  "language_info": {
   "codemirror_mode": {
    "name": "ipython",
    "version": 3
   },
   "file_extension": ".py",
   "mimetype": "text/x-python",
   "name": "python",
   "nbconvert_exporter": "python",
   "pygments_lexer": "ipython3",
   "version": "3.9.13"
  }
 },
 "nbformat": 4,
 "nbformat_minor": 5
}
